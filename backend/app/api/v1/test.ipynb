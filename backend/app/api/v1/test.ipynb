{
 "cells": [
  {
   "cell_type": "code",
   "execution_count": 16,
   "metadata": {},
   "outputs": [],
   "source": [
    "import sys\n",
    "sys.path.append(\"/Users/ashadi/study assistant/studdybuddy\")"
   ]
  },
  {
   "cell_type": "code",
   "execution_count": 17,
   "metadata": {},
   "outputs": [],
   "source": [
    "from pydantic import BaseModel\n",
    "from typing import Optional\n",
    "\n",
    "\n",
    "from agents.goalBreakdown_agent.agent import root_agent as agent"
   ]
  },
  {
   "cell_type": "code",
   "execution_count": 18,
   "metadata": {},
   "outputs": [
    {
     "data": {
      "text/plain": [
       "str"
      ]
     },
     "execution_count": 18,
     "metadata": {},
     "output_type": "execute_result"
    }
   ],
   "source": [
    "goal_data = {\n",
    " 'subject': 'Mathematics',\n",
    " 'title': 'Prepare for the final exam in Calculus',\n",
    " 'deadline': '2024-06-30T23:59:59',\n",
    " 'description': '',\n",
    " }\n",
    "import json\n",
    "from backend.app.core.models.goal import Goal\n",
    "\n",
    "goal_instance = Goal(**goal_data).model_dump()\n",
    "goal_instance['education_level'] = 'university'\n",
    "goal_instance['age'] = 17\n",
    "goal_str = json.dumps(goal_instance)\n",
    "type(goal_str)\n"
   ]
  },
  {
   "cell_type": "code",
   "execution_count": 19,
   "metadata": {},
   "outputs": [
    {
     "data": {
      "text/plain": [
       "{'subject': 'Mathematics',\n",
       " 'title': 'Prepare for the final exam in Calculus',\n",
       " 'deadline': '2024-06-30T23:59:59',\n",
       " 'description': '',\n",
       " 'education_level': 'university',\n",
       " 'age': 17}"
      ]
     },
     "execution_count": 19,
     "metadata": {},
     "output_type": "execute_result"
    }
   ],
   "source": [
    "goal_instance"
   ]
  },
  {
   "cell_type": "code",
   "execution_count": 20,
   "metadata": {},
   "outputs": [],
   "source": [
    "import uuid\n",
    "from dotenv import load_dotenv\n",
    "from google.adk.runners import Runner\n",
    "from google.adk.sessions import InMemorySessionService\n",
    "from google.genai import types\n",
    "from agents.goalBreakdown_agent import root_agent"
   ]
  },
  {
   "cell_type": "code",
   "execution_count": 21,
   "metadata": {},
   "outputs": [
    {
     "data": {
      "text/plain": [
       "True"
      ]
     },
     "execution_count": 21,
     "metadata": {},
     "output_type": "execute_result"
    }
   ],
   "source": [
    "load_dotenv()"
   ]
  },
  {
   "cell_type": "code",
   "execution_count": 22,
   "metadata": {},
   "outputs": [],
   "source": [
    "session_service_stateful = InMemorySessionService()\n",
    "initial_state={\n",
    "    \"objectivesAndRequirements\":\"\",\n",
    "    \"plan\":\"\",\n",
    "    \"review\":\"\"\n",
    "}"
   ]
  },
  {
   "cell_type": "code",
   "execution_count": 23,
   "metadata": {},
   "outputs": [],
   "source": [
    "\n",
    "APP_NAME=\"StuddyBuddy\"\n",
    "USER_ID='user1'\n",
    "SESSION_ID=str(uuid.uuid4())"
   ]
  },
  {
   "cell_type": "code",
   "execution_count": 24,
   "metadata": {},
   "outputs": [],
   "source": [
    "runner = Runner(\n",
    "    agent=root_agent,\n",
    "    app_name=APP_NAME,\n",
    "    session_service=session_service_stateful,\n",
    ")"
   ]
  },
  {
   "cell_type": "code",
   "execution_count": 25,
   "metadata": {},
   "outputs": [
    {
     "data": {
      "text/plain": [
       "google.genai.types.Content"
      ]
     },
     "execution_count": 25,
     "metadata": {},
     "output_type": "execute_result"
    }
   ],
   "source": [
    "content = types.Content(\n",
    "    role=\"user\", parts=[types.Part(text=goal_str)]\n",
    ")\n",
    "\n",
    "type(content)"
   ]
  },
  {
   "cell_type": "code",
   "execution_count": 26,
   "metadata": {},
   "outputs": [
    {
     "name": "stdout",
     "output_type": "stream",
     "text": [
      "Created new session: b87c5d6f-1aed-4a5b-8f27-b7c093278fff\n"
     ]
    }
   ],
   "source": [
    "existing_sessions = await session_service_stateful.list_sessions(\n",
    "        app_name=APP_NAME,\n",
    "        user_id=USER_ID,\n",
    "    )\n",
    "\n",
    "    # If there's an existing session, use it, otherwise create a new one\n",
    "if existing_sessions and len(existing_sessions.sessions) > 0:\n",
    "        # Use the most recent session\n",
    "        SESSION_ID = existing_sessions.sessions[0].id\n",
    "        print(f\"Continuing existing session: {SESSION_ID}\")\n",
    "else:\n",
    "        # Create a new session with initial state\n",
    "        new_session = await session_service_stateful.create_session(\n",
    "            app_name=APP_NAME,\n",
    "            user_id=USER_ID,\n",
    "            state=initial_state,\n",
    "        )\n",
    "        SESSION_ID = new_session.id\n",
    "        print(f\"Created new session: {SESSION_ID}\")"
   ]
  },
  {
   "cell_type": "code",
   "execution_count": 27,
   "metadata": {},
   "outputs": [
    {
     "name": "stdout",
     "output_type": "stream",
     "text": [
      "## Requirements and Objectives Analysis for Calculus Final Exam Preparation\n",
      "\n",
      "Based on the provided input, here's an analysis of the requirements and objectives for preparing for the Calculus final exam:\n",
      "\n",
      "**I. Requirements:**\n",
      "\n",
      "*   **Requirement 1: Comprehensive Content Coverage**\n",
      "    *   **Rationale:**  The user needs to cover all topics that will be tested on the final exam. This is the foundational requirement for success.\n",
      "    *   **Priority:** High\n",
      "*   **Requirement 2: Problem-Solving Proficiency**\n",
      "    *   **Rationale:** Calculus is a problem-solving-based subject.  The user needs to be able to apply concepts to solve a variety of problems.\n",
      "    *   **Priority:** High\n",
      "*   **Requirement 3: Exam-Specific Strategies**\n",
      "    *   **Rationale:** Understanding the exam format, types of questions, and time management strategies is crucial for performing well under pressure.\n",
      "    *   **Priority:** Medium\n",
      "*   **Requirement 4: Error Analysis and Correction**\n",
      "    *   **Rationale:** Identifying and correcting weaknesses is key to improvement. The user needs to understand where they are making mistakes and how to avoid them.\n",
      "    *   **Priority:** Medium\n",
      "*   **Requirement 5: Time Management**\n",
      "    *   **Rationale:** Given the deadline, the user needs to allocate sufficient time to each topic and practice effectively.\n",
      "    *   **Priority:** High\n",
      "*   **Requirement 6: Resource Identification**\n",
      "    *   **Rationale:**  Identifying and gathering necessary resources such as textbooks, notes, practice exams, and online materials is essential.\n",
      "    *   **Priority:** Medium\n",
      "\n",
      "**II. Objectives:**\n",
      "\n",
      "*   **Objective 1: Master Core Calculus Concepts**\n",
      "    *   **Rationale:** Develop a deep understanding of fundamental concepts like limits, derivatives, integrals, and their applications.  This is essential for tackling complex problems.\n",
      "    *   **Priority:** High\n",
      "*   **Objective 2: Improve Problem-Solving Speed and Accuracy**\n",
      "    *   **Rationale:** The user needs to solve problems quickly and accurately to maximize their score on the exam.\n",
      "    *   **Priority:** High\n",
      "*   **Objective 3: Identify and Address Weak Areas**\n",
      "    *   **Rationale:** Pinpointing specific areas of weakness allows for focused practice and improvement.\n",
      "    *   **Priority:** High\n",
      "*   **Objective 4: Simulate Exam Conditions**\n",
      "    *   **Rationale:** Practice with mock exams under timed conditions to build confidence and improve performance under pressure.\n",
      "    *   **Priority:** Medium\n",
      "*   **Objective 5: Achieve a Desired Score on the Final Exam**\n",
      "    *   **Rationale:** The ultimate goal is to perform well on the exam and achieve a satisfactory grade. While not explicitly stated, this is the implicit and overarching objective.\n",
      "    *   **Priority:** High\n",
      "*   **Objective 6: Effective use of study time**\n",
      "     *   **Rationale:** Since the user is 17 and has a university education level, it is possible that he/she has other academic demands. For that reason, this objective is important.\n",
      "     *   **Priority:** Medium\n",
      "\n",
      "**III. Gaps, Ambiguities, and Recommendations:**\n",
      "\n",
      "*   **Gap:** The description is empty. There are no specific requirements, preferences or conditions.\n",
      "*   **Recommendation 1:** Clarify the specific topics covered in the Calculus course. This will allow for a more focused and efficient study plan.\n",
      "*   **Recommendation 2:**  Inquire about the exam format (e.g., multiple choice, free response, calculator allowed?). Knowing the format helps tailor the preparation strategy.\n",
      "*   **Recommendation 3:** Determine if there are any past exams available for practice. These are invaluable resources for understanding the types of questions that may be asked.\n",
      "*    **Recommendation 4:**  Inquire about the specific goals of the user. (e.g., passing the exam, getting a specific grade).\n",
      "\n",
      "By addressing these gaps and recommendations, a more effective and personalized study plan can be created.\n",
      "```json\n",
      "{\n",
      "  \"Total time to complete the roadmap\": \"60 hours\",\n",
      "  \"Level of difficulty in completing the roadmap\": \"Medium\",\n",
      "  \"Number of total subtasks\": 10,\n",
      "  \"Subtasks\": [\n",
      "    {\n",
      "      \"Task description\": \"Gather all necessary resources (textbooks, notes, past exams, online resources).\",\n",
      "      \"Time duration\": \"2 hours\",\n",
      "      \"When is it due respect to final deadline\": \"58 days before\",\n",
      "      \"Pro Tips\": \"Organize resources by topic for easy access.\"\n",
      "    },\n",
      "    {\n",
      "      \"Task description\": \"Review fundamental concepts: Limits and Continuity.\",\n",
      "      \"Time duration\": \"6 hours\",\n",
      "      \"When is it due respect to final deadline\": \"52 days before\",\n",
      "      \"Pro Tips\": \"Focus on understanding the definitions and graphical interpretations. Practice different types of limit problems.\"\n",
      "    },\n",
      "    {\n",
      "      \"Task description\": \"Review fundamental concepts: Derivatives.\",\n",
      "      \"Time duration\": \"8 hours\",\n",
      "      \"When is it due respect to final deadline\": \"44 days before\",\n",
      "      \"Pro Tips\": \"Master differentiation rules (power, product, quotient, chain rule). Practice finding derivatives of various functions.\"\n",
      "    },\n",
      "    {\n",
      "      \"Task description\": \"Review fundamental concepts: Applications of Derivatives (optimization, related rates, curve sketching).\",\n",
      "      \"Time duration\": \"8 hours\",\n",
      "      \"When is it due respect to final deadline\": \"36 days before\",\n",
      "      \"Pro Tips\": \"Practice applying derivatives to solve real-world problems. Focus on setting up optimization problems correctly.\"\n",
      "    },\n",
      "    {\n",
      "      \"Task description\": \"Review fundamental concepts: Integrals.\",\n",
      "      \"Time duration\": \"8 hours\",\n",
      "      \"When is it due respect to final deadline\": \"28 days before\",\n",
      "      \"Pro Tips\": \"Master integration techniques (u-substitution, integration by parts). Practice finding definite and indefinite integrals.\"\n",
      "    },\n",
      "    {\n",
      "      \"Task description\": \"Review fundamental concepts: Applications of Integrals (area, volume).\",\n",
      "      \"Time duration\": \"6 hours\",\n",
      "      \"When is it due respect to final deadline\": \"22 days before\",\n",
      "      \"Pro Tips\": \"Visualize the areas and volumes being calculated. Practice setting up integrals for different geometric shapes.\"\n",
      "    },\n",
      "    {\n",
      "      \"Task description\": \"Work through practice problems for each topic covered.\",\n",
      "      \"Time duration\": \"8 hours\",\n",
      "      \"When is it due respect to final deadline\": \"14 days before\",\n",
      "      \"Pro Tips\": \"Focus on problems that challenge your understanding. Review solutions carefully to identify areas for improvement.\"\n",
      "    },\n",
      "    {\n",
      "      \"Task description\": \"Identify weak areas based on practice problem performance.\",\n",
      "      \"Time duration\": \"2 hours\",\n",
      "      \"When is it due respect to final deadline\": \"12 days before\",\n",
      "      \"Pro Tips\": \"Make a list of topics where you struggled. Prioritize these topics for further review.\"\n",
      "    },\n",
      "    {\n",
      "      \"Task description\": \"Focus on weak areas: Review concepts and practice more problems.\",\n",
      "      \"Time duration\": \"6 hours\",\n",
      "      \"When is it due respect to final deadline\": \"6 days before\",\n",
      "      \"Pro Tips\": \"Use different resources (textbooks, online videos) to get a fresh perspective on the concepts.\"\n",
      "    },\n",
      "    {\n",
      "      \"Task description\": \"Take a full-length practice exam under timed conditions.\",\n",
      "      \"Time duration\": \"6 hours\",\n",
      "      \"When is it due respect to final deadline\": \"0 days before\",\n",
      "      \"Pro Tips\": \"Simulate the actual exam environment as closely as possible. Review your performance and identify any remaining weaknesses.\"\n",
      "    }\n",
      "  ]\n",
      "}\n",
      "```\n",
      "The plan is a good start, but it needs to be more tailored to the user's specific needs and the exam format.\n",
      "\n",
      "Here's what to improve:\n",
      "\n",
      "1.  **Incorporate Exam-Specific Strategies:** The current plan lacks explicit tasks related to understanding the exam format, types of questions, and time management strategies (Requirement 3). Add a task to review the exam syllabus and past papers to identify common question types and allocate time for each section.\n",
      "2.  **More Emphasis on Error Analysis and Correction:** While the plan includes identifying weak areas, it could benefit from a more structured approach to error analysis (Requirement 4). Modify the \"Focus on weak areas\" task to include specific error analysis techniques (e.g., categorizing errors, identifying patterns).\n",
      "3.  **Consider Adding Milestones:** If the user wants to achieve a specific grade, it could be beneficial to add a milestone to assess the progress after reviewing the fundamental concepts.\n",
      "```json\n",
      "{\n",
      "  \"Total time to complete the roadmap\": \"62 hours\",\n",
      "  \"Level of difficulty in completing the roadmap\": \"Medium\",\n",
      "  \"Number of total subtasks\": 12,\n",
      "  \"Subtasks\": [\n",
      "    {\n",
      "      \"Task Title\": \"Subtask 1: Gather Resources\",\n",
      "      \"Priority level\": \"High\",\n",
      "      \"Task description\": \"Gather all necessary resources (textbooks, notes, past exams, online resources).\",\n",
      "      \"Time duration\": \"2 hours\",\n",
      "      \"When is it due respect to final deadline\": \"2024-05-02 23:59:59\",\n",
      "      \"Pro Tips\": \"Organize resources by topic for easy access.\"\n",
      "    },\n",
      "    {\n",
      "      \"Task Title\": \"Subtask 2: Understand Exam Format\",\n",
      "      \"Priority level\": \"Medium\",\n",
      "      \"Task description\": \"Review the exam syllabus and past papers to identify common question types, topics, and time allocation for each section.\",\n",
      "      \"Time duration\": \"2 hours\",\n",
      "      \"When is it due respect to final deadline\": \"2024-05-04 23:59:59\",\n",
      "      \"Pro Tips\": \"Pay attention to the weighting of different topics. Note any specific instructions or formulas provided.\"\n",
      "    },\n",
      "    {\n",
      "      \"Task Title\": \"Subtask 3: Review Limits and Continuity\",\n",
      "      \"Priority level\": \"High\",\n",
      "      \"Task description\": \"Review fundamental concepts: Limits and Continuity.\",\n",
      "      \"Time duration\": \"6 hours\",\n",
      "      \"When is it due respect to final deadline\": \"2024-05-10 23:59:59\",\n",
      "      \"Pro Tips\": \"Focus on understanding the definitions and graphical interpretations. Practice different types of limit problems.\"\n",
      "    },\n",
      "    {\n",
      "      \"Task Title\": \"Subtask 4: Review Derivatives\",\n",
      "      \"Priority level\": \"High\",\n",
      "      \"Task description\": \"Review fundamental concepts: Derivatives.\",\n",
      "      \"Time duration\": \"8 hours\",\n",
      "      \"When is it due respect to final deadline\": \"2024-05-18 23:59:59\",\n",
      "      \"Pro Tips\": \"Master differentiation rules (power, product, quotient, chain rule). Practice finding derivatives of various functions.\"\n",
      "    },\n",
      "    {\n",
      "      \"Task Title\": \"Subtask 5: Review Applications of Derivatives\",\n",
      "      \"Priority level\": \"High\",\n",
      "      \"Task description\": \"Review fundamental concepts: Applications of Derivatives (optimization, related rates, curve sketching).\",\n",
      "      \"Time duration\": \"8 hours\",\n",
      "      \"When is it due respect to final deadline\": \"2024-05-26 23:59:59\",\n",
      "      \"Pro Tips\": \"Practice applying derivatives to solve real-world problems. Focus on setting up optimization problems correctly.\"\n",
      "    },\n",
      "    {\n",
      "      \"Task Title\": \"Subtask 6: Review Integrals\",\n",
      "      \"Priority level\": \"High\",\n",
      "      \"Task description\": \"Review fundamental concepts: Integrals.\",\n",
      "      \"Time duration\": \"8 hours\",\n",
      "      \"When is it due respect to final deadline\": \"2024-06-03 23:59:59\",\n",
      "      \"Pro Tips\": \"Master integration techniques (u-substitution, integration by parts). Practice finding definite and indefinite integrals.\"\n",
      "    },\n",
      "    {\n",
      "      \"Task Title\": \"Subtask 7: Review Applications of Integrals\",\n",
      "      \"Priority level\": \"High\",\n",
      "      \"Task description\": \"Review fundamental concepts: Applications of Integrals (area, volume).\",\n",
      "      \"Time duration\": \"6 hours\",\n",
      "      \"When is it due respect to final deadline\": \"2024-06-09 23:59:59\",\n",
      "      \"Pro Tips\": \"Visualize the areas and volumes being calculated. Practice setting up integrals for different geometric shapes.\"\n",
      "    },\n",
      "    {\n",
      "      \"Task Title\": \"Subtask 8: Practice Problems\",\n",
      "      \"Priority level\": \"High\",\n",
      "      \"Task description\": \"Work through practice problems for each topic covered.\",\n",
      "      \"Time duration\": \"8 hours\",\n",
      "      \"When is it due respect to final deadline\": \"2024-06-16 23:59:59\",\n",
      "      \"Pro Tips\": \"Focus on problems that challenge your understanding. Review solutions carefully to identify areas for improvement.\"\n",
      "    },\n",
      "    {\n",
      "      \"Task Title\": \"Subtask 9: Identify Weak Areas\",\n",
      "      \"Priority level\": \"Medium\",\n",
      "      \"Task description\": \"Identify weak areas based on practice problem performance.\",\n",
      "      \"Time duration\": \"2 hours\",\n",
      "      \"When is it due respect to final deadline\": \"2024-06-18 23:59:59\",\n",
      "      \"Pro Tips\": \"Make a list of topics where you struggled. Prioritize these topics for further review.\"\n",
      "    },\n",
      "    {\n",
      "      \"Task Title\": \"Subtask 10: Focus on Weak Areas & Error Analysis\",\n",
      "      \"Priority level\": \"High\",\n",
      "      \"Task description\": \"Focus on weak areas: Review concepts and practice more problems. Implement error analysis techniques (e.g., categorize errors, identify patterns).\",\n",
      "      \"Time duration\": \"6 hours\",\n",
      "      \"When is it due respect to final deadline\": \"2024-06-24 23:59:59\",\n",
      "      \"Pro Tips\": \"Use different resources (textbooks, online videos) to get a fresh perspective on the concepts. Categorize errors (e.g., conceptual, calculation, careless). Look for patterns in your mistakes.\"\n",
      "    },\n",
      "    {\n",
      "      \"Task Title\": \"Subtask 11: Take Practice Exam\",\n",
      "      \"Priority level\": \"High\",\n",
      "      \"Task description\": \"Take a full-length practice exam under timed conditions.\",\n",
      "      \"Time duration\": \"4 hours\",\n",
      "      \"When is it due respect to final deadline\": \"2024-06-30 23:59:59\",\n",
      "      \"Pro Tips\": \"Simulate the actual exam environment as closely as possible. Review your performance and identify any remaining weaknesses.\"\n",
      "    },\n",
      "    {\n",
      "      \"Task Title\": \"Subtask 12: Final Review & Strategy\",\n",
      "      \"Priority level\": \"High\",\n",
      "      \"Task description\": \"Review identified weak areas and exam strategies. Focus on time management and question selection techniques.\",\n",
      "      \"Time duration\": \"2 hours\",\n",
      "      \"When is it due respect to final deadline\": \"2024-06-30 23:59:59\",\n",
      "      \"Pro Tips\": \"Prioritize topics based on their weighting and your confidence level. Practice efficient problem-solving methods.\"\n",
      "    }\n",
      "  ]\n",
      "}\n",
      "```\n"
     ]
    },
    {
     "name": "stderr",
     "output_type": "stream",
     "text": [
      "Warning: there are non-text parts in the response: ['function_call'], returning concatenated text result from text parts. Check the full candidates.content.parts accessor to get the full model response.\n"
     ]
    },
    {
     "name": "stdout",
     "output_type": "stream",
     "text": [
      "\n",
      "------EXIT LOOP TRIGGERED------\n",
      "Plan review completed successfully\n",
      "Loop will exit now\n",
      "---------------------------------\n",
      "\n"
     ]
    }
   ],
   "source": [
    "\n",
    "async for event in runner.run_async(\n",
    "    user_id=USER_ID, session_id=SESSION_ID, new_message=content\n",
    "):\n",
    "    if event.is_final_response():\n",
    "        if(event.content\n",
    "            and event.content.parts\n",
    "            and hasattr(event.content.parts[0], \"text\")\n",
    "            and event.content.parts[0].text\n",
    "        ):\n",
    "            final_response = event.content.parts[0].text.strip()\n",
    "            print(final_response)\n",
    "\n",
    "\n",
    "\n"
   ]
  },
  {
   "cell_type": "code",
   "execution_count": null,
   "metadata": {},
   "outputs": [],
   "source": []
  },
  {
   "cell_type": "code",
   "execution_count": 28,
   "metadata": {},
   "outputs": [],
   "source": [
    "session = await session_service_stateful.get_session(app_name=APP_NAME, user_id=USER_ID, session_id=SESSION_ID)\n",
    "plan = session.state.get(\"plan\",\"unknown\")"
   ]
  },
  {
   "cell_type": "code",
   "execution_count": 29,
   "metadata": {},
   "outputs": [
    {
     "data": {
      "text/plain": [
       "'```json\\n{\\n  \"Total time to complete the roadmap\": \"62 hours\",\\n  \"Level of difficulty in completing the roadmap\": \"Medium\",\\n  \"Number of total subtasks\": 12,\\n  \"Subtasks\": [\\n    {\\n      \"Task Title\": \"Subtask 1: Gather Resources\",\\n      \"Priority level\": \"High\",\\n      \"Task description\": \"Gather all necessary resources (textbooks, notes, past exams, online resources).\",\\n      \"Time duration\": \"2 hours\",\\n      \"When is it due respect to final deadline\": \"2024-05-02 23:59:59\",\\n      \"Pro Tips\": \"Organize resources by topic for easy access.\"\\n    },\\n    {\\n      \"Task Title\": \"Subtask 2: Understand Exam Format\",\\n      \"Priority level\": \"Medium\",\\n      \"Task description\": \"Review the exam syllabus and past papers to identify common question types, topics, and time allocation for each section.\",\\n      \"Time duration\": \"2 hours\",\\n      \"When is it due respect to final deadline\": \"2024-05-04 23:59:59\",\\n      \"Pro Tips\": \"Pay attention to the weighting of different topics. Note any specific instructions or formulas provided.\"\\n    },\\n    {\\n      \"Task Title\": \"Subtask 3: Review Limits and Continuity\",\\n      \"Priority level\": \"High\",\\n      \"Task description\": \"Review fundamental concepts: Limits and Continuity.\",\\n      \"Time duration\": \"6 hours\",\\n      \"When is it due respect to final deadline\": \"2024-05-10 23:59:59\",\\n      \"Pro Tips\": \"Focus on understanding the definitions and graphical interpretations. Practice different types of limit problems.\"\\n    },\\n    {\\n      \"Task Title\": \"Subtask 4: Review Derivatives\",\\n      \"Priority level\": \"High\",\\n      \"Task description\": \"Review fundamental concepts: Derivatives.\",\\n      \"Time duration\": \"8 hours\",\\n      \"When is it due respect to final deadline\": \"2024-05-18 23:59:59\",\\n      \"Pro Tips\": \"Master differentiation rules (power, product, quotient, chain rule). Practice finding derivatives of various functions.\"\\n    },\\n    {\\n      \"Task Title\": \"Subtask 5: Review Applications of Derivatives\",\\n      \"Priority level\": \"High\",\\n      \"Task description\": \"Review fundamental concepts: Applications of Derivatives (optimization, related rates, curve sketching).\",\\n      \"Time duration\": \"8 hours\",\\n      \"When is it due respect to final deadline\": \"2024-05-26 23:59:59\",\\n      \"Pro Tips\": \"Practice applying derivatives to solve real-world problems. Focus on setting up optimization problems correctly.\"\\n    },\\n    {\\n      \"Task Title\": \"Subtask 6: Review Integrals\",\\n      \"Priority level\": \"High\",\\n      \"Task description\": \"Review fundamental concepts: Integrals.\",\\n      \"Time duration\": \"8 hours\",\\n      \"When is it due respect to final deadline\": \"2024-06-03 23:59:59\",\\n      \"Pro Tips\": \"Master integration techniques (u-substitution, integration by parts). Practice finding definite and indefinite integrals.\"\\n    },\\n    {\\n      \"Task Title\": \"Subtask 7: Review Applications of Integrals\",\\n      \"Priority level\": \"High\",\\n      \"Task description\": \"Review fundamental concepts: Applications of Integrals (area, volume).\",\\n      \"Time duration\": \"6 hours\",\\n      \"When is it due respect to final deadline\": \"2024-06-09 23:59:59\",\\n      \"Pro Tips\": \"Visualize the areas and volumes being calculated. Practice setting up integrals for different geometric shapes.\"\\n    },\\n    {\\n      \"Task Title\": \"Subtask 8: Practice Problems\",\\n      \"Priority level\": \"High\",\\n      \"Task description\": \"Work through practice problems for each topic covered.\",\\n      \"Time duration\": \"8 hours\",\\n      \"When is it due respect to final deadline\": \"2024-06-16 23:59:59\",\\n      \"Pro Tips\": \"Focus on problems that challenge your understanding. Review solutions carefully to identify areas for improvement.\"\\n    },\\n    {\\n      \"Task Title\": \"Subtask 9: Identify Weak Areas\",\\n      \"Priority level\": \"Medium\",\\n      \"Task description\": \"Identify weak areas based on practice problem performance.\",\\n      \"Time duration\": \"2 hours\",\\n      \"When is it due respect to final deadline\": \"2024-06-18 23:59:59\",\\n      \"Pro Tips\": \"Make a list of topics where you struggled. Prioritize these topics for further review.\"\\n    },\\n    {\\n      \"Task Title\": \"Subtask 10: Focus on Weak Areas & Error Analysis\",\\n      \"Priority level\": \"High\",\\n      \"Task description\": \"Focus on weak areas: Review concepts and practice more problems. Implement error analysis techniques (e.g., categorize errors, identify patterns).\",\\n      \"Time duration\": \"6 hours\",\\n      \"When is it due respect to final deadline\": \"2024-06-24 23:59:59\",\\n      \"Pro Tips\": \"Use different resources (textbooks, online videos) to get a fresh perspective on the concepts. Categorize errors (e.g., conceptual, calculation, careless). Look for patterns in your mistakes.\"\\n    },\\n    {\\n      \"Task Title\": \"Subtask 11: Take Practice Exam\",\\n      \"Priority level\": \"High\",\\n      \"Task description\": \"Take a full-length practice exam under timed conditions.\",\\n      \"Time duration\": \"4 hours\",\\n      \"When is it due respect to final deadline\": \"2024-06-30 23:59:59\",\\n      \"Pro Tips\": \"Simulate the actual exam environment as closely as possible. Review your performance and identify any remaining weaknesses.\"\\n    },\\n    {\\n      \"Task Title\": \"Subtask 12: Final Review & Strategy\",\\n      \"Priority level\": \"High\",\\n      \"Task description\": \"Review identified weak areas and exam strategies. Focus on time management and question selection techniques.\",\\n      \"Time duration\": \"2 hours\",\\n      \"When is it due respect to final deadline\": \"2024-06-30 23:59:59\",\\n      \"Pro Tips\": \"Prioritize topics based on their weighting and your confidence level. Practice efficient problem-solving methods.\"\\n    }\\n  ]\\n}\\n```'"
      ]
     },
     "execution_count": 29,
     "metadata": {},
     "output_type": "execute_result"
    }
   ],
   "source": [
    "plan"
   ]
  },
  {
   "cell_type": "code",
   "execution_count": 30,
   "metadata": {},
   "outputs": [
    {
     "name": "stdout",
     "output_type": "stream",
     "text": [
      "{'Total time to complete the roadmap': '62 hours', 'Level of difficulty in completing the roadmap': 'Medium', 'Number of total subtasks': 12, 'Subtasks': [{'Task Title': 'Subtask 1: Gather Resources', 'Priority level': 'High', 'Task description': 'Gather all necessary resources (textbooks, notes, past exams, online resources).', 'Time duration': '2 hours', 'When is it due respect to final deadline': '2024-05-02 23:59:59', 'Pro Tips': 'Organize resources by topic for easy access.'}, {'Task Title': 'Subtask 2: Understand Exam Format', 'Priority level': 'Medium', 'Task description': 'Review the exam syllabus and past papers to identify common question types, topics, and time allocation for each section.', 'Time duration': '2 hours', 'When is it due respect to final deadline': '2024-05-04 23:59:59', 'Pro Tips': 'Pay attention to the weighting of different topics. Note any specific instructions or formulas provided.'}, {'Task Title': 'Subtask 3: Review Limits and Continuity', 'Priority level': 'High', 'Task description': 'Review fundamental concepts: Limits and Continuity.', 'Time duration': '6 hours', 'When is it due respect to final deadline': '2024-05-10 23:59:59', 'Pro Tips': 'Focus on understanding the definitions and graphical interpretations. Practice different types of limit problems.'}, {'Task Title': 'Subtask 4: Review Derivatives', 'Priority level': 'High', 'Task description': 'Review fundamental concepts: Derivatives.', 'Time duration': '8 hours', 'When is it due respect to final deadline': '2024-05-18 23:59:59', 'Pro Tips': 'Master differentiation rules (power, product, quotient, chain rule). Practice finding derivatives of various functions.'}, {'Task Title': 'Subtask 5: Review Applications of Derivatives', 'Priority level': 'High', 'Task description': 'Review fundamental concepts: Applications of Derivatives (optimization, related rates, curve sketching).', 'Time duration': '8 hours', 'When is it due respect to final deadline': '2024-05-26 23:59:59', 'Pro Tips': 'Practice applying derivatives to solve real-world problems. Focus on setting up optimization problems correctly.'}, {'Task Title': 'Subtask 6: Review Integrals', 'Priority level': 'High', 'Task description': 'Review fundamental concepts: Integrals.', 'Time duration': '8 hours', 'When is it due respect to final deadline': '2024-06-03 23:59:59', 'Pro Tips': 'Master integration techniques (u-substitution, integration by parts). Practice finding definite and indefinite integrals.'}, {'Task Title': 'Subtask 7: Review Applications of Integrals', 'Priority level': 'High', 'Task description': 'Review fundamental concepts: Applications of Integrals (area, volume).', 'Time duration': '6 hours', 'When is it due respect to final deadline': '2024-06-09 23:59:59', 'Pro Tips': 'Visualize the areas and volumes being calculated. Practice setting up integrals for different geometric shapes.'}, {'Task Title': 'Subtask 8: Practice Problems', 'Priority level': 'High', 'Task description': 'Work through practice problems for each topic covered.', 'Time duration': '8 hours', 'When is it due respect to final deadline': '2024-06-16 23:59:59', 'Pro Tips': 'Focus on problems that challenge your understanding. Review solutions carefully to identify areas for improvement.'}, {'Task Title': 'Subtask 9: Identify Weak Areas', 'Priority level': 'Medium', 'Task description': 'Identify weak areas based on practice problem performance.', 'Time duration': '2 hours', 'When is it due respect to final deadline': '2024-06-18 23:59:59', 'Pro Tips': 'Make a list of topics where you struggled. Prioritize these topics for further review.'}, {'Task Title': 'Subtask 10: Focus on Weak Areas & Error Analysis', 'Priority level': 'High', 'Task description': 'Focus on weak areas: Review concepts and practice more problems. Implement error analysis techniques (e.g., categorize errors, identify patterns).', 'Time duration': '6 hours', 'When is it due respect to final deadline': '2024-06-24 23:59:59', 'Pro Tips': 'Use different resources (textbooks, online videos) to get a fresh perspective on the concepts. Categorize errors (e.g., conceptual, calculation, careless). Look for patterns in your mistakes.'}, {'Task Title': 'Subtask 11: Take Practice Exam', 'Priority level': 'High', 'Task description': 'Take a full-length practice exam under timed conditions.', 'Time duration': '4 hours', 'When is it due respect to final deadline': '2024-06-30 23:59:59', 'Pro Tips': 'Simulate the actual exam environment as closely as possible. Review your performance and identify any remaining weaknesses.'}, {'Task Title': 'Subtask 12: Final Review & Strategy', 'Priority level': 'High', 'Task description': 'Review identified weak areas and exam strategies. Focus on time management and question selection techniques.', 'Time duration': '2 hours', 'When is it due respect to final deadline': '2024-06-30 23:59:59', 'Pro Tips': 'Prioritize topics based on their weighting and your confidence level. Practice efficient problem-solving methods.'}]}\n",
      "<class 'dict'>\n"
     ]
    }
   ],
   "source": [
    "import re\n",
    "match = re.search(r\"\\{.*\\}\", plan, re.DOTALL)\n",
    "if match:\n",
    "    plan_json_str = match.group(0)\n",
    "    plan_obj = json.loads(plan_json_str)\n",
    "    print(plan_obj)\n",
    "    print(type(plan_obj))\n",
    "else:\n",
    "    print(\"No JSON found in string.\")"
   ]
  }
 ],
 "metadata": {
  "kernelspec": {
   "display_name": ".venv",
   "language": "python",
   "name": "python3"
  },
  "language_info": {
   "codemirror_mode": {
    "name": "ipython",
    "version": 3
   },
   "file_extension": ".py",
   "mimetype": "text/x-python",
   "name": "python",
   "nbconvert_exporter": "python",
   "pygments_lexer": "ipython3",
   "version": "3.12.4"
  }
 },
 "nbformat": 4,
 "nbformat_minor": 2
}
