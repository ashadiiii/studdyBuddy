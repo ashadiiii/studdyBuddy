{
 "cells": [
  {
   "cell_type": "code",
   "execution_count": 2,
   "metadata": {},
   "outputs": [
    {
     "name": "stdout",
     "output_type": "stream",
     "text": [
      "2025-06-29 15:00-16:00\n",
      "2025-06-30 09:00-10:00\n",
      "2025-07-01 12:00-13:00\n",
      "2025-07-01 15:00-18:00\n",
      "2025-07-06 15:00-16:00\n",
      "2025-07-07 09:00-10:00\n"
     ]
    }
   ],
   "source": [
    "from datetime import datetime, timedelta\n",
    "from backend.app.core.services.schedule_service import get_available_time_slots\n",
    "# Example usage:\n",
    "available_days_times = {\n",
    "    \"sunday\": \"15:00-16:00\",\n",
    "    \"monday\": \"09:00-10:00\",\n",
    "    \"tuesday\": \"\"\n",
    "}\n",
    "current_date = \"2025-06-28\"\n",
    "deadline = \"2025-07-07\"\n",
    "\n",
    "preffered_times = [\"12:00-13:00\",\"15:00-18:00\"]\n",
    "slots = get_available_time_slots(available_days_times, current_date, deadline,preffered_time_slots=preffered_times)\n",
    "for slot in slots:\n",
    "    print(slot)"
   ]
  },
  {
   "cell_type": "code",
   "execution_count": 1,
   "metadata": {},
   "outputs": [],
   "source": [
    "import sys\n",
    "sys.path.append('/Users/ashadi/study assistant/studdybuddy')\n"
   ]
  },
  {
   "cell_type": "code",
   "execution_count": 3,
   "metadata": {},
   "outputs": [],
   "source": [
    "\n",
    "from backend.app.core.services.schedule_service import get_current_schedule,get_available_time_slots\n",
    "from backend.app.core.superbase import get_supabase_client"
   ]
  },
  {
   "cell_type": "code",
   "execution_count": 4,
   "metadata": {},
   "outputs": [
    {
     "name": "stdout",
     "output_type": "stream",
     "text": [
      "current schedule: [{'date': '2025-06-28', 'events': [{'task': \"Math's Revision\", 'start': '13:00:00', 'end': '15:00:00', 'priority': 'Medium'}]}, {'date': '2025-06-29', 'events': [{'task': 'Networking event', 'start': '14:00:00', 'end': '15:00:00', 'priority': 'Low'}, {'task': \"Physic's revision\", 'start': '09:00:00', 'end': '10:00:00', 'priority': 'medium'}]}]\n",
      "available slots: [{'date': '2025-06-28', 'free slots': [('12:00:00', '13:00:00'), ('15:00:00', '16:00:00')]}, {'date': '2025-06-29', 'free slots': [('10:00:00', '12:00:00')]}]\n"
     ]
    }
   ],
   "source": [
    "available_slots = [\"2025-06-28 12:00:00-16:00:00\",\"2025-06-29 09:00:00-12:00:00\"]\n",
    "table = get_supabase_client()\n",
    "result = get_current_schedule(user_id='72a066fe-6c4b-4024-9bf7-da8e7ec12d0a',available_slots=available_slots,supabase=table)\n",
    "\n",
    "\n",
    "print(f'current schedule: {result['current_schedule']}')\n",
    "print(f'available slots: {result['available_slots']}')"
   ]
  },
  {
   "cell_type": "code",
   "execution_count": 5,
   "metadata": {},
   "outputs": [
    {
     "name": "stdout",
     "output_type": "stream",
     "text": [
      "['2025-06-28 12:00:00-16:00:00', '2025-06-29 09:00:00-12:00:00']\n"
     ]
    }
   ],
   "source": [
    "print(available_slots)"
   ]
  },
  {
   "cell_type": "code",
   "execution_count": null,
   "metadata": {},
   "outputs": [],
   "source": [
    "from agents.search_agent import root_agent\n",
    "\n",
    "from backend.app.core.services.agentCall_service import call_agent\n",
    "\n"
   ]
  }
 ],
 "metadata": {
  "kernelspec": {
   "display_name": ".venv",
   "language": "python",
   "name": "python3"
  },
  "language_info": {
   "codemirror_mode": {
    "name": "ipython",
    "version": 3
   },
   "file_extension": ".py",
   "mimetype": "text/x-python",
   "name": "python",
   "nbconvert_exporter": "python",
   "pygments_lexer": "ipython3",
   "version": "3.12.4"
  }
 },
 "nbformat": 4,
 "nbformat_minor": 2
}
